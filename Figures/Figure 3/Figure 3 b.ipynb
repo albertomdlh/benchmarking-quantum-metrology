{
 "cells": [
  {
   "cell_type": "code",
   "execution_count": 1,
   "metadata": {},
   "outputs": [],
   "source": [
    "import numpy as np\n",
    "from numpy import abs, sqrt, log10, sin, cos, exp, cosh, tanh, log, conj, cosh, sinh\n",
    "np.set_printoptions(precision=16)\n",
    "from math import pi, factorial\n",
    "from numpy.random import rand\n",
    "from numpy.linalg import norm\n",
    "import scipy\n",
    "import scipy.sparse as sp\n",
    "from scipy.sparse import linalg, csc_matrix\n",
    "import time\n",
    "from scipy.optimize import minimize\n",
    "from scipy.special import eval_hermite\n",
    "\n",
    "%matplotlib inline\n",
    "import matplotlib.pyplot as plt\n",
    "%config InlineBackend.figure_format =\"retina\"\n",
    "import matplotlib as mpl\n",
    "#mpl.rcParams[\"figure.dpi\"] = \n",
    "plt.rc('text', usetex=True)\n",
    "plt.rc('font', family='serif')\n",
    "\n",
    "import pickle\n",
    "\n",
    "from qonn_cobyla import *\n",
    "\n",
    "from qutip import *\n",
    "\n",
    "import matplotlib as mpl\n",
    "\n",
    "from matplotlib import cm\n",
    "\n",
    "from numpy import array\n",
    "from numpy import count_nonzero\n",
    "\n",
    "from scipy.signal import find_peaks, savgol_filter"
   ]
  },
  {
   "cell_type": "code",
   "execution_count": 2,
   "metadata": {},
   "outputs": [],
   "source": [
    "def get_wigner(psi):\n",
    "    '''\n",
    "    This function gets the Wigner quasiprobability distribution of the pure state psi (in QuTiP).\n",
    "    '''\n",
    "\n",
    "    rho = psi[:, np.newaxis] @ psi[np.newaxis, :].conj()\n",
    "\n",
    "    # We trace out the second mode\n",
    "    basis_1 = csc_matrix(np.eye(N_p+1, dtype=np.complex128))\n",
    "    basis_2 = csc_matrix(np.eye(N_p+1, dtype=np.complex128))\n",
    "    rho_1 = 0 # Initialize reduced density matrix of mode 1\n",
    "    for j in range(N_p+1):\n",
    "        rho_1 += sp.kron(basis_2[:, j].H, basis_1) @ rho @ sp.kron(basis_2[:, j], basis_1)\n",
    "\n",
    "    rho_1_qutip = Qobj(rho_1)\n",
    "    xvec = np.linspace(-sqrt(N_p), sqrt(N_p), 200)\n",
    "    W_1 = wigner(rho_1_qutip, xvec, xvec)\n",
    "\n",
    "    return W_1"
   ]
  },
  {
   "cell_type": "code",
   "execution_count": 3,
   "metadata": {},
   "outputs": [],
   "source": [
    "def QFI_explicit(psi):\n",
    "    '''\n",
    "    This function calculates the QFI of the pure state psi.\n",
    "    '''\n",
    "\n",
    "    psi_phi = np.copy(psi)\n",
    "    # Encoding (MZ interferometer)\n",
    "    psi_phi = sp.linalg.expm_multiply(-1j * (0*sp.eye(setup.d_c, dtype=np.complex128) + setup.H_BS_sym()), psi_phi)\n",
    "    psi_phi = sp.linalg.expm_multiply(-1j * (phi[1] * setup.H_phi() ), psi_phi)\n",
    "    psi_phi = sp.linalg.expm_multiply(-1j * (0*sp.eye(setup.d_c, dtype=np.complex128) + setup.H_BS_sym()), psi_phi)\n",
    "    \n",
    "    psi_delta = np.copy(psi)\n",
    "    # Encoding (MZ interferometer)\n",
    "    psi_delta = sp.linalg.expm_multiply(-1j * (0*sp.eye(setup.d_c, dtype=np.complex128) + setup.H_BS_sym()), psi_delta)\n",
    "    psi_delta = sp.linalg.expm_multiply(-1j * (phi_delta[1] * setup.H_phi() ), psi_delta)\n",
    "    psi_delta = sp.linalg.expm_multiply(-1j * (0*sp.eye(setup.d_c, dtype=np.complex128) + setup.H_BS_sym()), psi_delta)\n",
    "\n",
    "    # Evaluate QFI\n",
    "    F = np.abs(psi_phi[np.newaxis, :].conj() @ psi_delta[:, np.newaxis])\n",
    "    cost = (8*(1-F)/delta**2)[0][0]\n",
    "\n",
    "    return cost"
   ]
  },
  {
   "cell_type": "code",
   "execution_count": 4,
   "metadata": {},
   "outputs": [
    {
     "name": "stdout",
     "output_type": "stream",
     "text": [
      "0.49952488122030514\n",
      "0.999599899974994\n",
      "1.4996749187296827\n"
     ]
    },
    {
     "data": {
      "image/png": "[encoded data removed]",
      "text/plain": [
       "<Figure size 1080x216 with 3 Axes>"
      ]
     },
     "metadata": {
      "image/png": {
       "height": 227,
       "width": 872
      },
      "needs_background": "light"
     },
     "output_type": "display_data"
    }
   ],
   "source": [
    "k = 2\n",
    "\n",
    "ordinals = ['st', 'nd', 'rd', 'th']\n",
    "colors = ['red', 'blue', 'green', 'black']\n",
    "markers = ['o', 's', '^', 'd']\n",
    "\n",
    "# We plot the ultimate estimation error given by the QFI\n",
    "N_p_list = [20, 40, 80]\n",
    "plt.rcParams[\"figure.figsize\"] = [5*len(N_p_list), 3]\n",
    "fig, ax = plt.subplots(1, len(N_p_list))\n",
    "marker_size = 80\n",
    "fs = 20\n",
    "\n",
    "ax[-1].grid()\n",
    "ax[-1].tick_params(axis='both', labelsize=fs)\n",
    "ax[-1].set_xlim(10, 41)\n",
    "ax[-1].set_xticks(np.arange(10, 50, 10))\n",
    "ax[-1].set_ylabel(r'$\\tilde{K}_{\\rm rev}/\\pi$', fontsize=fs)\n",
    "\n",
    "file = open('T_rev_k={:}'.format(k), 'rb')\n",
    "input = pickle.load(file)\n",
    "file.close()\n",
    "\n",
    "T_rev_matrix = input[0]\n",
    "N_list = input[1]/2\n",
    "indices = input[2]\n",
    "\n",
    "for i in range(len(indices[:-1])):\n",
    "    ax[-1].scatter(N_list[2:], T_rev_matrix[:, i]/pi, marker_size, label='{:}'.format(i+1) + ordinals[i] + ' revival', color=colors[i], marker=markers[i])\n",
    "    ax[-1].plot(N_list[2:], T_rev_matrix[:, i]/pi, color=colors[i])\n",
    "\n",
    "    print(T_rev_matrix[0, i]/pi)\n",
    "\n",
    "# 4th revival\n",
    "\n",
    "i += 1\n",
    "\n",
    "file = open('T_rev_k={:}_faster_4th_rev.p'.format(k), 'rb')\n",
    "input = pickle.load(file)\n",
    "file.close()\n",
    "\n",
    "T_rev_matrix = input[0]\n",
    "N_list = input[1]/2\n",
    "indices = input[2]\n",
    "\n",
    "ax[-1].scatter(N_list[2:], T_rev_matrix[0][2:]/pi, marker_size, label='{:}'.format(i+1) + ordinals[i] + ' revival'.format(i+1), color=colors[-1], marker=markers[-1])\n",
    "ax[-1].plot(N_list[2:], T_rev_matrix[0][2:]/pi, color=colors[-1])\n",
    "\n",
    "ax[-1].set_xlabel(r'$N$', fontsize=fs)\n",
    "\n",
    "#ax[-1].legend(loc='center left', bbox_to_anchor=(1, 0.5), fontsize=fs)\n",
    "\n",
    "plt.savefig('Figure 3 v2 panel c.svg', bbox_inches='tight', dpi=600)"
   ]
  },
  {
   "cell_type": "code",
   "execution_count": null,
   "metadata": {},
   "outputs": [],
   "source": []
  }
 ],
 "metadata": {
  "kernelspec": {
   "display_name": "Python 3",
   "language": "python",
   "name": "python3"
  },
  "language_info": {
   "codemirror_mode": {
    "name": "ipython",
    "version": 3
   },
   "file_extension": ".py",
   "mimetype": "text/x-python",
   "name": "python",
   "nbconvert_exporter": "python",
   "pygments_lexer": "ipython3",
   "version": "3.10.11"
  },
  "orig_nbformat": 4
 },
 "nbformat": 4,
 "nbformat_minor": 2
}
